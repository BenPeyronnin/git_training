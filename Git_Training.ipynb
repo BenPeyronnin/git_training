{
 "cells": [
  {
   "cell_type": "markdown",
   "metadata": {},
   "source": [
    "<h1>Some tasks for Ben:</h1><br/>\n",
    "After each section, do the appropriate `git` routine so that you can practice your git skills as well!\n",
    "\n",
    "<h2>Set some variables, print them and their type</h2>\n",
    "<h3> Integers and Strings </h3>\n",
    "Create a variable `x` and set it equal to `3`. Print the variable and the type of the variable in a cell.<br/>\n",
    "Example of how to get the type of something:<br/><br/>\n",
    "    `print(type(3))`<br/>\n",
    "    `>>><class 'int'>`<br/><br/>\n",
    "Create a variable `x` and set it equal to `\"3\"`. Print the variable and the type of the variable in a cell.<br/>\n",
    "Example of how to get the type of something:<br/><br/>\n",
    "    `print(type(\"3\"))`<br/>\n",
    "    `>>><class 'str'>`"
   ]
  },
  {
   "cell_type": "code",
   "execution_count": null,
   "metadata": {},
   "outputs": [],
   "source": []
  },
  {
   "cell_type": "markdown",
   "metadata": {},
   "source": [
    "<h2>Learning basic `for` loops `if` statements</h2>\n",
    "\n",
    "Create a variable `y` and give it any value that you would like. Print the variable to the screen 5 times while only typing the print statement once using `for` loops.<br/>\n",
    "Example of how to use a basic `for` loop in python.<br/>\n",
    "    `for <x> in range(<number of times>):`<br/>\n",
    "    &nbsp;&nbsp;&nbsp;&nbsp;&nbsp;`print(<message>)`\n",
    "    \n",
    "`<x>` - this is an arbitrary variable it will be used each time starting at `0` and going up to whatever value that we have in `<number of times>` so that the `for` loop can keep track of the number of times it has ran.<br/><br/>\n",
    "`<number of times>` - this is the number of times that we want our `for` loop to be executed.<br/><br/>\n",
    "`print(<message>)` - since we want to print a variable several times we will call print for each time the loop runs. We can replace this print with anything that we want to run multiple times.\n",
    "\n",
    "<strong>Other important notes:</strong><br/>\n",
    "Notice how after the line where we said `for` we have a colon (`:`)? This lets Python know that there is more stuff to do based on this line. This is important because the next line is indented so that it knows what it needs to run each time that it iterates. Anything that is indented and after the `:` will be ran each time with the loop.<br/>\n",
    "If there is nothing indented, or there is no `:` where python expects it, then Python will give you an error!"
   ]
  },
  {
   "cell_type": "code",
   "execution_count": null,
   "metadata": {},
   "outputs": [],
   "source": []
  }
 ],
 "metadata": {
  "kernelspec": {
   "display_name": "Python 3",
   "language": "python",
   "name": "python3"
  },
  "language_info": {
   "codemirror_mode": {
    "name": "ipython",
    "version": 3
   },
   "file_extension": ".py",
   "mimetype": "text/x-python",
   "name": "python",
   "nbconvert_exporter": "python",
   "pygments_lexer": "ipython3",
   "version": "3.6.5"
  }
 },
 "nbformat": 4,
 "nbformat_minor": 2
}
