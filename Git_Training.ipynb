{
 "cells": [
  {
   "cell_type": "markdown",
   "metadata": {},
   "source": [
    "<h1>Some tasks for Ben:</h1><br/>\n",
    "After each section, do the appropriate `git` routine so that you can practice your git skills as well!\n",
    "\n",
    "<h2>Set some variables, print them and their type</h2>\n",
    "<h3> Integers and Strings </h3>\n",
    "Create a variable `x` and set it equal to `3`. Print the variable and the type of the variable in a cell.<br/>\n",
    "Example of how to get the type of something:<br/><br/>\n",
    "    `print(type(3))`<br/>\n",
    "    `>>><class 'int'>`<br/><br/>\n",
    "Create a variable `x` and set it equal to `\"3\"`. Print the variable and the type of the variable in a cell.<br/>\n",
    "Example of how to get the type of something:<br/><br/>\n",
    "    `print(type(\"3\"))`<br/>\n",
    "    `>>><class 'str'>`"
   ]
  },
  {
   "cell_type": "code",
   "execution_count": 11,
   "metadata": {},
   "outputs": [
    {
     "name": "stdout",
     "output_type": "stream",
     "text": [
      "<class 'float'>\n"
     ]
    }
   ],
   "source": []
  },
  {
   "cell_type": "markdown",
   "metadata": {},
   "source": [
    "<h2>Learning basic `for` loops and `if` statements</h2>\n",
    "\n",
    "<h3>`for` loops</h3>\n",
    "\n",
    "Create a variable `y` and give it any value that you would like. Print the variable to the screen 5 times while only typing the print statement once using `for` loops.<br/>\n",
    "Example of how to use a basic `for` loop in python.<br/>\n",
    "    `for <x> in range(<number of times>):`<br/>\n",
    "    &nbsp;&nbsp;&nbsp;&nbsp;&nbsp;`print(<message>)`\n",
    "    \n",
    "`<x>` - this is an arbitrary variable it will be used each time starting at `0` and going up to whatever value that we have in `<number of times>` so that the `for` loop can keep track of the number of times it has ran.<br/><br/>\n",
    "`<number of times>` - this is the number of times that we want our `for` loop to be executed.<br/><br/>\n",
    "`print(<message>)` - since we want to print a variable several times we will call print for each time the loop runs. We can replace this print with anything that we want to run multiple times.\n",
    "\n",
    "<strong>Other important notes:</strong><br/>\n",
    "Notice how after the line where we said `for` we have a colon (`:`)? This lets Python know that there is more stuff to do based on this line. This is important because the next line is indented so that it knows what it needs to run each time that it iterates. Anything that is indented and after the `:` will be ran each time with the loop.<br/>\n",
    "If there is nothing indented, or there is no `:` where python expects it, then Python will give you an error!\n",
    "\n",
    "<h3>`if` statements </h3>\n",
    "\n",
    "Create a variable `z` and give it the value 4, create a variable `a` and give it the value 1. Then create an `if` statement that will print the value if the value is greater than 3. This should print 4 to the terminal but not 1.<br/>\n",
    "\n",
    "Example of how to use a basic `if` statement in python.<br/>\n",
    "`if( x > <some value>):`<br/>\n",
    "&nbsp;&nbsp;&nbsp;&nbsp;&nbsp;`print(x)`<br/>\n",
    "\n",
    "`<some value>` - this is the value that we are comparing `x` to.<br/><br/>\n",
    "    `if` - this checks that statement that is inside of it's parentheses and if the statement is true it will execute your code that is following the `:`\n",
    "    \n",
    "<strong>Other important notes:</strong><br/>\n",
    "    The important note previously in the `for` loop section still applies here, be careful with your formatting!"
   ]
  },
  {
   "cell_type": "code",
   "execution_count": null,
   "metadata": {},
   "outputs": [],
   "source": []
  },
  {
   "cell_type": "markdown",
   "metadata": {},
   "source": [
    "<h2>Learning how to take in input</h2>\n",
    "\n",
    "<h3>`input`</h3>\n",
    "\n",
    "Input is the most basic way to take in input into a `.ipynb` file. It simply allows you to print a string out as some sort of prompt, then takes in input from the keyboard. The cell following this will have an example of taking in input."
   ]
  },
  {
   "cell_type": "code",
   "execution_count": 10,
   "metadata": {},
   "outputs": [
    {
     "name": "stdout",
     "output_type": "stream",
     "text": [
      "Enter some text and I will print it to the screen: My Name is Ben\n",
      "My Name is Ben\n"
     ]
    }
   ],
   "source": [
    "textInput = input(\"Enter some text and I will print it to the screen: \")\n",
    "print(textInput)"
   ]
  },
  {
   "cell_type": "markdown",
   "metadata": {},
   "source": [
    "Create a variable, take some input into it, print the input and the type of the input. Take note of the type of input when entering text and numbers."
   ]
  },
  {
   "cell_type": "code",
   "execution_count": null,
   "metadata": {},
   "outputs": [],
   "source": []
  },
  {
   "cell_type": "markdown",
   "metadata": {},
   "source": [
    "<h3>`input` and `if`</h3>\n",
    "\n",
    "Create a variable, take some input into it, then print the input only if the input matches a certain value"
   ]
  },
  {
   "cell_type": "code",
   "execution_count": null,
   "metadata": {},
   "outputs": [],
   "source": []
  },
  {
   "cell_type": "markdown",
   "metadata": {},
   "source": [
    "<h2>Learning about pythons `list` variable</h2>\n",
    "\n",
    "<h3>`list`</h3>\n",
    "\n",
    "Lists are one of the most powerful variable types in standard python. A list can simply be define with a variable name, then set equal to values in square brackets.<br/><br/>\n",
    "`list = [val0, val1, val2]`<br/><br/>\n",
    "Imagine that instead of just one variable, you want to set several variables. Instead of settings each as its own variable, you can simply create a list. An example of the difference will be shown below."
   ]
  },
  {
   "cell_type": "code",
   "execution_count": 12,
   "metadata": {},
   "outputs": [
    {
     "name": "stdout",
     "output_type": "stream",
     "text": [
      "Orange Apple Banana Strawberry\n"
     ]
    }
   ],
   "source": [
    "fruit0 = \"Orange\"\n",
    "fruit1 = \"Apple\"\n",
    "fruit2 = \"Banana\"\n",
    "fruit3 = \"Strawberry\"\n",
    "print(fruit0, fruit1, fruit2, fruit3)\n",
    "#See how much text this is, now imagine if you needed thousands of variables"
   ]
  },
  {
   "cell_type": "code",
   "execution_count": 13,
   "metadata": {},
   "outputs": [
    {
     "name": "stdout",
     "output_type": "stream",
     "text": [
      "['Orange', 'Apple', 'Banana', 'Strawberry']\n"
     ]
    }
   ],
   "source": [
    "#Now we will use lists\n",
    "fruits = [\"Orange\", \"Apple\", \"Banana\", \"Strawberry\"]\n",
    "print(fruits)"
   ]
  },
  {
   "cell_type": "markdown",
   "metadata": {},
   "source": [
    "Create a list and give it several values, then print the list."
   ]
  },
  {
   "cell_type": "code",
   "execution_count": null,
   "metadata": {},
   "outputs": [],
   "source": []
  },
  {
   "cell_type": "markdown",
   "metadata": {},
   "source": [
    "<h3>`list` adding and iterating</h3>\n",
    "\n",
    "The powerful thing about lists is not that we can assign them static variables instead of having to type them all out, even though it is nice. The powerful thing is that we can append values to a list and go through the list step by step and do operations with each element.<br/><br/>\n",
    "For example, let's go back to the fruits."
   ]
  },
  {
   "cell_type": "code",
   "execution_count": 15,
   "metadata": {},
   "outputs": [
    {
     "name": "stdout",
     "output_type": "stream",
     "text": [
      "['Orange', 'Apple', 'Banana', 'Strawberry']\n",
      "['Orange', 'Apple', 'Banana', 'Strawberry', 'Blackberry']\n"
     ]
    }
   ],
   "source": [
    "#Create a list of fruits\n",
    "fruits = [\"Orange\", \"Apple\", \"Banana\", \"Strawberry\"]\n",
    "#Print the entire list of fruits\n",
    "print(fruits)\n",
    "\n",
    "#Append the value \"Blackberry\" to the list `fruits`\n",
    "fruits.append(\"Blackberry\")\n",
    "#Print the entire list of fruits\n",
    "print(fruits)"
   ]
  },
  {
   "cell_type": "markdown",
   "metadata": {},
   "source": [
    "Above we can see that with `append` we can easily add values to our list. This is very handy for when you have a data set that is growing, you can add stuff to a list as new events come in. Next we will go over iterating through a list using a `for` loop."
   ]
  },
  {
   "cell_type": "code",
   "execution_count": 17,
   "metadata": {},
   "outputs": [
    {
     "name": "stdout",
     "output_type": "stream",
     "text": [
      "['Orange', 'Apple', 'Banana', 'Strawberry', 'Blackberry']\n",
      "Orange\n",
      "Apple\n",
      "Banana\n",
      "Strawberry\n",
      "Blackberry\n"
     ]
    }
   ],
   "source": [
    "#Create a list of fruits\n",
    "fruits = [\"Orange\", \"Apple\", \"Banana\", \"Strawberry\"]\n",
    "#Append the value \"Blackberry\" to the list `fruits`\n",
    "fruits.append(\"Blackberry\")\n",
    "print(fruits)\n",
    "\n",
    "for fruit in fruits:\n",
    "    print(fruit)"
   ]
  },
  {
   "cell_type": "markdown",
   "metadata": {},
   "source": [
    "There is a lot happening in the cell above us, so we will try to go through it in a lot of detail, stick with me. To begin we will do more stuff that we already know, create a list, put some values in it, add a value to it and print the list. Wondeful.<br/><br/>\n",
    "`for fruit in fruits:` - what the heck does this mean? In python, calling `for x in xs` does a few things under the hood that we don't see. This takes the list apart into each element, and then goes through each element. Therefore when we call `print(fruit)` this is only printing one element of the list.\n",
    "\n",
    "Create a list of vegetables. Add a vegetable to the list using `append`. Iterate through the list and print the vegetatble only when it is a certain vegetable (you can choose this)."
   ]
  },
  {
   "cell_type": "code",
   "execution_count": null,
   "metadata": {},
   "outputs": [],
   "source": []
  }
 ],
 "metadata": {
  "kernelspec": {
   "display_name": "Python 3",
   "language": "python",
   "name": "python3"
  },
  "language_info": {
   "codemirror_mode": {
    "name": "ipython",
    "version": 3
   },
   "file_extension": ".py",
   "mimetype": "text/x-python",
   "name": "python",
   "nbconvert_exporter": "python",
   "pygments_lexer": "ipython3",
   "version": "3.6.5"
  }
 },
 "nbformat": 4,
 "nbformat_minor": 2
}
